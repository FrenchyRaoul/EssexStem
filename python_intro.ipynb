{
 "cells": [
  {
   "cell_type": "markdown",
   "metadata": {},
   "source": [
    "# Introduction to Python\n",
    "\n",
    "This Python \"notebook\" is designed to give a brief introduction to variables, different data types, and a rough 'how-to' write your own Python code."
   ]
  },
  {
   "cell_type": "code",
   "execution_count": null,
   "metadata": {},
   "outputs": [],
   "source": []
  },
  {
   "cell_type": "markdown",
   "metadata": {},
   "source": [
    "# To run a cell:\n",
    "# 1) Click on the cell (where the code is!)\n",
    "# 2) CONTROL + ENTER"
   ]
  },
  {
   "cell_type": "markdown",
   "metadata": {},
   "source": [
    "<img src=\"files/control.jpg\" width=\"100\"><img src=\"files/enter.png\" width=\"200\">"
   ]
  },
  {
   "cell_type": "code",
   "execution_count": null,
   "metadata": {},
   "outputs": [],
   "source": []
  },
  {
   "cell_type": "markdown",
   "metadata": {},
   "source": [
    "## Data Types\n",
    "\n",
    "There are many different types of data in Python. Common data types include strings, integers, lists, and booleans (true/false). We can do things with some data types, that we can't do with others. For example, we can check if a number is positive or negative, but we can't check if someone's name (Steve) is positive or negative.\n",
    "\n",
    "### Strings\n",
    "\n",
    "In python, a 'string' is just a series of letters, numbers, and symbols. For example, the town name \"Essex\" can be thought of as a string, consisting of five letters. Essentially, strings can be thought of as text. In order to define a string in Python, we simply put quotes (either single or double) around the text."
   ]
  },
  {
   "cell_type": "code",
   "execution_count": 12,
   "metadata": {},
   "outputs": [
    {
     "data": {
      "text/plain": [
       "'Essex'"
      ]
     },
     "execution_count": 12,
     "metadata": {},
     "output_type": "execute_result"
    }
   ],
   "source": [
    "\"Essex\""
   ]
  },
  {
   "cell_type": "code",
   "execution_count": 13,
   "metadata": {},
   "outputs": [
    {
     "data": {
      "text/plain": [
       "'This is a string, and so is the number 54, below:'"
      ]
     },
     "execution_count": 13,
     "metadata": {},
     "output_type": "execute_result"
    }
   ],
   "source": [
    "\"This is a string, and so is the number 54, below:\""
   ]
  },
  {
   "cell_type": "code",
   "execution_count": 5,
   "metadata": {},
   "outputs": [
    {
     "data": {
      "text/plain": [
       "'54'"
      ]
     },
     "execution_count": 5,
     "metadata": {},
     "output_type": "execute_result"
    }
   ],
   "source": [
    "\"54\""
   ]
  },
  {
   "cell_type": "markdown",
   "metadata": {},
   "source": [
    "We can also interact with our strings, combining them, changing case, and much more!"
   ]
  },
  {
   "cell_type": "code",
   "execution_count": 6,
   "metadata": {},
   "outputs": [
    {
     "data": {
      "text/plain": [
       "'Writing python is fun!'"
      ]
     },
     "execution_count": 6,
     "metadata": {},
     "output_type": "execute_result"
    }
   ],
   "source": [
    "\"Writing python\" + \" is fun!\""
   ]
  },
  {
   "cell_type": "code",
   "execution_count": 10,
   "metadata": {},
   "outputs": [
    {
     "data": {
      "text/plain": [
       "\"I'M REALLY EXCITED\""
      ]
     },
     "execution_count": 10,
     "metadata": {},
     "output_type": "execute_result"
    }
   ],
   "source": [
    "\"i'm really excited\".upper()"
   ]
  },
  {
   "cell_type": "markdown",
   "metadata": {},
   "source": [
    "#### Try it yourself!\n",
    "\n",
    "1) Try adding two strings together!  \n",
    "2) Try making an upper case string into lower case!  \n",
    "\n",
    "*BONUS*) Can you you do both 1 and 2 at the same time?"
   ]
  },
  {
   "cell_type": "code",
   "execution_count": null,
   "metadata": {},
   "outputs": [],
   "source": []
  },
  {
   "cell_type": "code",
   "execution_count": null,
   "metadata": {},
   "outputs": [],
   "source": []
  },
  {
   "cell_type": "code",
   "execution_count": null,
   "metadata": {},
   "outputs": [],
   "source": []
  },
  {
   "cell_type": "markdown",
   "metadata": {},
   "source": [
    "### Integers (and \"floats\")\n",
    "\n",
    "Integers are just numbers without fractional parts (that is, there is no decimal point). An integer in Python is the same as an integer learned about in math class. Some examples of integers are 0, 1, 2, 3, 255, -455, and 1337. To define an integer in Python, we simply type the numbers, with no quotes.\n",
    "\n",
    "Similar to an integer, we have a data type called a 'float'. A float is a number that *does* require a decimal point to define; there is a fractional part."
   ]
  },
  {
   "cell_type": "code",
   "execution_count": 22,
   "metadata": {},
   "outputs": [
    {
     "data": {
      "text/plain": [
       "46"
      ]
     },
     "execution_count": 22,
     "metadata": {},
     "output_type": "execute_result"
    }
   ],
   "source": [
    "46"
   ]
  },
  {
   "cell_type": "code",
   "execution_count": 23,
   "metadata": {},
   "outputs": [
    {
     "data": {
      "text/plain": [
       "-15"
      ]
     },
     "execution_count": 23,
     "metadata": {},
     "output_type": "execute_result"
    }
   ],
   "source": [
    "-15"
   ]
  },
  {
   "cell_type": "markdown",
   "metadata": {},
   "source": [
    "Similar to strings, there are many operations we can perform on integers. This includes adding, multiplying, subtracting, and much more! If we divide two integers, we might get a float back, instead of an integer..."
   ]
  },
  {
   "cell_type": "code",
   "execution_count": 19,
   "metadata": {},
   "outputs": [
    {
     "data": {
      "text/plain": [
       "10"
      ]
     },
     "execution_count": 19,
     "metadata": {},
     "output_type": "execute_result"
    }
   ],
   "source": [
    "5 + 5"
   ]
  },
  {
   "cell_type": "code",
   "execution_count": 25,
   "metadata": {},
   "outputs": [
    {
     "data": {
      "text/plain": [
       "13.333333333333334"
      ]
     },
     "execution_count": 25,
     "metadata": {},
     "output_type": "execute_result"
    }
   ],
   "source": [
    "160 / 12   # This results in a float, as 160 is not evenly divided by 12."
   ]
  },
  {
   "cell_type": "code",
   "execution_count": 14,
   "metadata": {},
   "outputs": [
    {
     "data": {
      "text/plain": [
       "False"
      ]
     },
     "execution_count": 14,
     "metadata": {},
     "output_type": "execute_result"
    }
   ],
   "source": [
    "10 < 5  # This operation is checking if 10 is less than 5, and returns \"False\"."
   ]
  },
  {
   "cell_type": "markdown",
   "metadata": {},
   "source": [
    "#### Try it yourself!\n",
    "\n",
    "1) Perform a multiplication that you can't do in your head.  \n",
    "2) Try using the // (two slashes) operator to divide 160 by 12. How does this differ?  "
   ]
  },
  {
   "cell_type": "code",
   "execution_count": null,
   "metadata": {},
   "outputs": [],
   "source": []
  },
  {
   "cell_type": "code",
   "execution_count": null,
   "metadata": {},
   "outputs": [],
   "source": []
  },
  {
   "cell_type": "code",
   "execution_count": null,
   "metadata": {},
   "outputs": [],
   "source": []
  },
  {
   "cell_type": "markdown",
   "metadata": {},
   "source": [
    "### Lists\n",
    "\n",
    "Lists are just a collection of other 'things'. That is, we can have a list of numbers: **[1, 2, 3, 4, 5]**   \n",
    "\n",
    "Or, we can have a list of states (where each state is a string): **[\"Vermont\", \"California\", \"New Mexico\"]** \n",
    "\n",
    "We can also have lists that contain mixed types of things: **[1, -5, \"Metallica\", 53, \"Bernie mittens\"]**  \n",
    "\n",
    "Defining a list is simple; we use square brackets [ ], with commas separating each item in the list."
   ]
  },
  {
   "cell_type": "code",
   "execution_count": 4,
   "metadata": {},
   "outputs": [
    {
     "data": {
      "text/plain": [
       "[5, 4, 3, 2, 1, -1, 56]"
      ]
     },
     "execution_count": 4,
     "metadata": {},
     "output_type": "execute_result"
    }
   ],
   "source": [
    "[5, 4, 3, 2, 1, -1, 56]"
   ]
  },
  {
   "cell_type": "markdown",
   "metadata": {},
   "source": [
    "There are a lot of interesting things we can do we lists. We can combine them:"
   ]
  },
  {
   "cell_type": "code",
   "execution_count": 5,
   "metadata": {},
   "outputs": [
    {
     "data": {
      "text/plain": [
       "[1, 2, 3, 4, 5, 6]"
      ]
     },
     "execution_count": 5,
     "metadata": {},
     "output_type": "execute_result"
    }
   ],
   "source": [
    "[1, 2, 3] + [4, 5, 6]"
   ]
  },
  {
   "cell_type": "markdown",
   "metadata": {},
   "source": [
    "We can grab a number out of our list. For instance, if we want to grab the third item, we use [2]. The reason this is [2] instead of [3], is because **python starts counting at zero**."
   ]
  },
  {
   "cell_type": "code",
   "execution_count": 6,
   "metadata": {},
   "outputs": [
    {
     "data": {
      "text/plain": [
       "'Westford'"
      ]
     },
     "execution_count": 6,
     "metadata": {},
     "output_type": "execute_result"
    }
   ],
   "source": [
    "[\"Milton\", \"Essex\", \"Westford\", \"Burlington\"][2]"
   ]
  },
  {
   "cell_type": "markdown",
   "metadata": {},
   "source": [
    "#### Try it yourself!\n",
    "\n",
    "1) Try making a list of your teacher's names. Remember, each name is a string!  \n",
    "2) Make a list of both strings and integers.  \n",
    "\n",
    "*Bonus*) Find the length of a list, by wrapping an entire list in the \"len()\" function.    \n",
    "**HINT**: It should looks something like: len(*your_list_here*)"
   ]
  },
  {
   "cell_type": "code",
   "execution_count": null,
   "metadata": {},
   "outputs": [],
   "source": []
  },
  {
   "cell_type": "code",
   "execution_count": null,
   "metadata": {},
   "outputs": [],
   "source": []
  },
  {
   "cell_type": "markdown",
   "metadata": {},
   "source": [
    "# Variables\n",
    "\n",
    "Variables allow us to save our data as a named 'thing'. To make a variable, we simply use the '=' sign."
   ]
  },
  {
   "cell_type": "code",
   "execution_count": 2,
   "metadata": {},
   "outputs": [],
   "source": [
    "town_name = \"essex\""
   ]
  },
  {
   "cell_type": "markdown",
   "metadata": {},
   "source": [
    "This saves the string 'essex' into the variable named 'town_name'.\n",
    "\n",
    "Now, we can do the string things we learned about previously..."
   ]
  },
  {
   "cell_type": "code",
   "execution_count": 3,
   "metadata": {},
   "outputs": [
    {
     "data": {
      "text/plain": [
       "'ESSEX'"
      ]
     },
     "execution_count": 3,
     "metadata": {},
     "output_type": "execute_result"
    }
   ],
   "source": [
    "town_name.upper()"
   ]
  },
  {
   "cell_type": "code",
   "execution_count": 6,
   "metadata": {},
   "outputs": [
    {
     "data": {
      "text/plain": [
       "'I live in Essex'"
      ]
     },
     "execution_count": 6,
     "metadata": {},
     "output_type": "execute_result"
    }
   ],
   "source": [
    "\"I live in \" + town_name.capitalize()"
   ]
  },
  {
   "cell_type": "code",
   "execution_count": 12,
   "metadata": {},
   "outputs": [],
   "source": [
    "year = \"2021\"\n",
    "month = \"January\"\n",
    "day = \"27\"\n",
    "\n",
    "date = \"Today is the \" + day + \"th day of \" + month + ', ' + year + '!'"
   ]
  },
  {
   "cell_type": "code",
   "execution_count": 13,
   "metadata": {},
   "outputs": [
    {
     "name": "stdout",
     "output_type": "stream",
     "text": [
      "Today is the 27th day of January, 2021!\n"
     ]
    }
   ],
   "source": [
    "print(date)"
   ]
  },
  {
   "cell_type": "code",
   "execution_count": 18,
   "metadata": {},
   "outputs": [
    {
     "name": "stdout",
     "output_type": "stream",
     "text": [
      "jeff\n",
      "steve\n",
      "I have 5 friends\n"
     ]
    }
   ],
   "source": [
    "friends = ['jeff', 'mark', 'jessica', 'steve', 'anna']\n",
    "\n",
    "print(friends[0])\n",
    "print(friends[3])\n",
    "\n",
    "print(\"I have\", len(friends), \"friends\")"
   ]
  },
  {
   "cell_type": "code",
   "execution_count": null,
   "metadata": {},
   "outputs": [],
   "source": []
  },
  {
   "cell_type": "markdown",
   "metadata": {},
   "source": [
    "# For Loop \n",
    "\n",
    "One of the most important structures in programming. Almost all languages have the concept of a 'for' loop.\n",
    "\n",
    "The for loop allows us to operate on each item in a list, one at a time.\n",
    "\n",
    "**Imagine we want to print every name in the list of names. Here is one way we could do this:**"
   ]
  },
  {
   "cell_type": "code",
   "execution_count": 19,
   "metadata": {},
   "outputs": [
    {
     "name": "stdout",
     "output_type": "stream",
     "text": [
      "jeff\n",
      "mark\n",
      "jessica\n",
      "steve\n",
      "anna\n"
     ]
    }
   ],
   "source": [
    "name = 'jeff'\n",
    "print(name)\n",
    "\n",
    "name = 'mark'\n",
    "print(name)\n",
    "\n",
    "name = 'jessica'\n",
    "print(name)\n",
    "\n",
    "name = 'steve'\n",
    "print(name)\n",
    "\n",
    "name = 'anna'\n",
    "print(name)"
   ]
  },
  {
   "cell_type": "code",
   "execution_count": null,
   "metadata": {},
   "outputs": [],
   "source": []
  },
  {
   "cell_type": "markdown",
   "metadata": {},
   "source": [
    "**Instead of this, we can use a 'for' loop to. This loop defines a new variable, 'name', assigning each friend to this variable, one at a time.**"
   ]
  },
  {
   "cell_type": "code",
   "execution_count": 20,
   "metadata": {},
   "outputs": [
    {
     "name": "stdout",
     "output_type": "stream",
     "text": [
      "jeff\n",
      "mark\n",
      "jessica\n",
      "steve\n",
      "anna\n"
     ]
    }
   ],
   "source": [
    "friends = ['jeff', 'mark', 'jessica', 'steve', 'anna']\n",
    "for name in friends:  # The first time through the loop, name = 'jeff'\n",
    "    print(name)       # once we print the name to the screen, we got back to the previous linee, and start the next name in the list (mark)"
   ]
  },
  {
   "cell_type": "code",
   "execution_count": null,
   "metadata": {},
   "outputs": [],
   "source": []
  },
  {
   "cell_type": "markdown",
   "metadata": {},
   "source": [
    "**We can also loop over a list of numbers, and print out that number multiplied by 2:**"
   ]
  },
  {
   "cell_type": "code",
   "execution_count": 24,
   "metadata": {},
   "outputs": [
    {
     "name": "stdout",
     "output_type": "stream",
     "text": [
      "1 2\n",
      "2 4\n",
      "3 6\n",
      "4 8\n",
      "5 10\n"
     ]
    }
   ],
   "source": [
    "for number in [1, 2, 3, 4, 5]:\n",
    "    print(number * 2)"
   ]
  },
  {
   "cell_type": "code",
   "execution_count": null,
   "metadata": {},
   "outputs": [],
   "source": []
  },
  {
   "cell_type": "code",
   "execution_count": null,
   "metadata": {},
   "outputs": [],
   "source": []
  },
  {
   "cell_type": "code",
   "execution_count": null,
   "metadata": {},
   "outputs": [],
   "source": []
  }
 ],
 "metadata": {
  "kernelspec": {
   "display_name": "Python 3",
   "language": "python",
   "name": "python3"
  },
  "language_info": {
   "codemirror_mode": {
    "name": "ipython",
    "version": 3
   },
   "file_extension": ".py",
   "mimetype": "text/x-python",
   "name": "python",
   "nbconvert_exporter": "python",
   "pygments_lexer": "ipython3",
   "version": "3.9.1"
  }
 },
 "nbformat": 4,
 "nbformat_minor": 4
}
